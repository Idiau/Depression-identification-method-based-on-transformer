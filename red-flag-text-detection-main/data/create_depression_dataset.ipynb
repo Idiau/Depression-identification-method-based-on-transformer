{
 "cells": [
  {
   "cell_type": "code",
   "execution_count": 1,
   "id": "725f6ca0-0586-4eaf-9198-64f8d910ac70",
   "metadata": {
    "ExecuteTime": {
     "end_time": "2024-01-19T07:47:52.569989500Z",
     "start_time": "2024-01-19T07:47:52.181100200Z"
    }
   },
   "outputs": [],
   "source": [
    "#imports\n",
    "import pandas as pd\n",
    "import os"
   ]
  },
  {
   "cell_type": "code",
   "execution_count": 2,
   "id": "2e7325e5-7e73-40c6-b9d7-ca3bdfc76473",
   "metadata": {
    "ExecuteTime": {
     "end_time": "2024-01-19T07:47:54.880016600Z",
     "start_time": "2024-01-19T07:47:54.871085500Z"
    }
   },
   "outputs": [
    {
     "data": {
      "text/plain": "'D:\\\\Paper\\\\red-flag-text-detection-main\\\\data'"
     },
     "execution_count": 2,
     "metadata": {},
     "output_type": "execute_result"
    }
   ],
   "source": [
    "# determine the current working directory to make it easier to find file paths\n",
    "os.getcwd()"
   ]
  },
  {
   "cell_type": "code",
   "execution_count": 6,
   "id": "97e3f679-2b3c-48d5-bc9c-6cb4a6ec8b62",
   "metadata": {
    "ExecuteTime": {
     "end_time": "2024-01-19T07:50:12.771746600Z",
     "start_time": "2024-01-19T07:50:12.431373800Z"
    }
   },
   "outputs": [
    {
     "data": {
      "text/plain": "   Unnamed: 0                  id                      created_at  \\\n0           0  870430762255953920  Fri Jun 02 00:04:00 +0000 2017   \n1           1  870430770141253632  Fri Jun 02 00:04:02 +0000 2017   \n2           2  870430771592413187  Fri Jun 02 00:04:02 +0000 2017   \n3           3  870430772800479233  Fri Jun 02 00:04:02 +0000 2017   \n4           4  870430776432644096  Fri Jun 02 00:04:03 +0000 2017   \n\n                                                text  \\\n0  Hey, look - I found my social anxiety again. W...   \n1  RT @shannonpurser: Depression sucks. I'm in th...   \n2  RT @HRoyalThighness: Lol my social anxiety goe...   \n3  How to Deal with Stress, Anxiety and Bipolar D...   \n4  RT @COCONUTOILBAE: when you want to be friends...   \n\n                                              source  sentiment  label  \n0  <a href=\"http://tapbots.com/software/tweetbot/...         -1      1  \n1  <a href=\"http://twitter.com/download/iphone\" r...         -1      1  \n2  <a href=\"http://twitter.com/download/iphone\" r...         -1      1  \n3  <a href=\"http://www.hootsuite.com\" rel=\"nofoll...         -1      1  \n4  <a href=\"http://twitter.com/download/iphone\" r...          0      0  ",
      "text/html": "<div>\n<style scoped>\n    .dataframe tbody tr th:only-of-type {\n        vertical-align: middle;\n    }\n\n    .dataframe tbody tr th {\n        vertical-align: top;\n    }\n\n    .dataframe thead th {\n        text-align: right;\n    }\n</style>\n<table border=\"1\" class=\"dataframe\">\n  <thead>\n    <tr style=\"text-align: right;\">\n      <th></th>\n      <th>Unnamed: 0</th>\n      <th>id</th>\n      <th>created_at</th>\n      <th>text</th>\n      <th>source</th>\n      <th>sentiment</th>\n      <th>label</th>\n    </tr>\n  </thead>\n  <tbody>\n    <tr>\n      <th>0</th>\n      <td>0</td>\n      <td>870430762255953920</td>\n      <td>Fri Jun 02 00:04:00 +0000 2017</td>\n      <td>Hey, look - I found my social anxiety again. W...</td>\n      <td>&lt;a href=\"http://tapbots.com/software/tweetbot/...</td>\n      <td>-1</td>\n      <td>1</td>\n    </tr>\n    <tr>\n      <th>1</th>\n      <td>1</td>\n      <td>870430770141253632</td>\n      <td>Fri Jun 02 00:04:02 +0000 2017</td>\n      <td>RT @shannonpurser: Depression sucks. I'm in th...</td>\n      <td>&lt;a href=\"http://twitter.com/download/iphone\" r...</td>\n      <td>-1</td>\n      <td>1</td>\n    </tr>\n    <tr>\n      <th>2</th>\n      <td>2</td>\n      <td>870430771592413187</td>\n      <td>Fri Jun 02 00:04:02 +0000 2017</td>\n      <td>RT @HRoyalThighness: Lol my social anxiety goe...</td>\n      <td>&lt;a href=\"http://twitter.com/download/iphone\" r...</td>\n      <td>-1</td>\n      <td>1</td>\n    </tr>\n    <tr>\n      <th>3</th>\n      <td>3</td>\n      <td>870430772800479233</td>\n      <td>Fri Jun 02 00:04:02 +0000 2017</td>\n      <td>How to Deal with Stress, Anxiety and Bipolar D...</td>\n      <td>&lt;a href=\"http://www.hootsuite.com\" rel=\"nofoll...</td>\n      <td>-1</td>\n      <td>1</td>\n    </tr>\n    <tr>\n      <th>4</th>\n      <td>4</td>\n      <td>870430776432644096</td>\n      <td>Fri Jun 02 00:04:03 +0000 2017</td>\n      <td>RT @COCONUTOILBAE: when you want to be friends...</td>\n      <td>&lt;a href=\"http://twitter.com/download/iphone\" r...</td>\n      <td>0</td>\n      <td>0</td>\n    </tr>\n  </tbody>\n</table>\n</div>"
     },
     "execution_count": 6,
     "metadata": {},
     "output_type": "execute_result"
    }
   ],
   "source": [
    "# read the processed csv file for the first training dataset, and convert it to a pandas dataframe\n",
    "set1_df = pd.read_csv(\"../source_data/depression/set1/set1_processed.csv\", delimiter=\",\")\n",
    "set1_df.head()"
   ]
  },
  {
   "cell_type": "code",
   "execution_count": 7,
   "id": "22b015e9-ee80-4b7f-92da-865314aa25e5",
   "metadata": {
    "ExecuteTime": {
     "end_time": "2024-01-19T07:50:50.391037Z",
     "start_time": "2024-01-19T07:50:50.207316500Z"
    }
   },
   "outputs": [
    {
     "data": {
      "text/plain": "   Unnamed: 0                                               text subreddit  \\\n0           6  Where should I read my college required readin...        cc   \n1           7  Your and You’re An easy way to remember it, fo...        cc   \n2           8  did i miss a day? oh poop. well, halfway to 5 ...        cc   \n3           9  My flight just got delayed for super long.. wh...        cc   \n4          11  a Thank you guys so much for responding. I rea...        sw   \n\n   label    pos    neg  id  \n0      0  0.000  0.000   0  \n1      0  0.078  0.066   1  \n2      0  0.353  0.028   2  \n3      0  0.065  0.032   3  \n4      1  0.422  0.000   4  ",
      "text/html": "<div>\n<style scoped>\n    .dataframe tbody tr th:only-of-type {\n        vertical-align: middle;\n    }\n\n    .dataframe tbody tr th {\n        vertical-align: top;\n    }\n\n    .dataframe thead th {\n        text-align: right;\n    }\n</style>\n<table border=\"1\" class=\"dataframe\">\n  <thead>\n    <tr style=\"text-align: right;\">\n      <th></th>\n      <th>Unnamed: 0</th>\n      <th>text</th>\n      <th>subreddit</th>\n      <th>label</th>\n      <th>pos</th>\n      <th>neg</th>\n      <th>id</th>\n    </tr>\n  </thead>\n  <tbody>\n    <tr>\n      <th>0</th>\n      <td>6</td>\n      <td>Where should I read my college required readin...</td>\n      <td>cc</td>\n      <td>0</td>\n      <td>0.000</td>\n      <td>0.000</td>\n      <td>0</td>\n    </tr>\n    <tr>\n      <th>1</th>\n      <td>7</td>\n      <td>Your and You’re An easy way to remember it, fo...</td>\n      <td>cc</td>\n      <td>0</td>\n      <td>0.078</td>\n      <td>0.066</td>\n      <td>1</td>\n    </tr>\n    <tr>\n      <th>2</th>\n      <td>8</td>\n      <td>did i miss a day? oh poop. well, halfway to 5 ...</td>\n      <td>cc</td>\n      <td>0</td>\n      <td>0.353</td>\n      <td>0.028</td>\n      <td>2</td>\n    </tr>\n    <tr>\n      <th>3</th>\n      <td>9</td>\n      <td>My flight just got delayed for super long.. wh...</td>\n      <td>cc</td>\n      <td>0</td>\n      <td>0.065</td>\n      <td>0.032</td>\n      <td>3</td>\n    </tr>\n    <tr>\n      <th>4</th>\n      <td>11</td>\n      <td>a Thank you guys so much for responding. I rea...</td>\n      <td>sw</td>\n      <td>1</td>\n      <td>0.422</td>\n      <td>0.000</td>\n      <td>4</td>\n    </tr>\n  </tbody>\n</table>\n</div>"
     },
     "execution_count": 7,
     "metadata": {},
     "output_type": "execute_result"
    }
   ],
   "source": [
    "# read the processed csv file for the second training dataset, and convert it to a pandas dataframe\n",
    "set2_df = pd.read_csv(\"../source_data/depression/set2/set2_processed.csv\", delimiter=\",\")\n",
    "set2_df.head()"
   ]
  },
  {
   "cell_type": "code",
   "execution_count": 15,
   "id": "0c6afca5-619f-4ba4-b06a-940b15a00362",
   "metadata": {
    "ExecuteTime": {
     "end_time": "2024-01-19T08:09:19.371770500Z",
     "start_time": "2024-01-19T08:09:19.361049600Z"
    }
   },
   "outputs": [
    {
     "data": {
      "text/plain": "                   id                                               text  \\\n0  870430762255953920  Hey, look - I found my social anxiety again. W...   \n1  870430770141253632  RT @shannonpurser: Depression sucks. I'm in th...   \n2  870430771592413187  RT @HRoyalThighness: Lol my social anxiety goe...   \n3  870430772800479233  How to Deal with Stress, Anxiety and Bipolar D...   \n4  870430776432644096  RT @COCONUTOILBAE: when you want to be friends...   \n\n   label source_data  \n0      1        set1  \n1      1        set1  \n2      1        set1  \n3      1        set1  \n4      0        set1  ",
      "text/html": "<div>\n<style scoped>\n    .dataframe tbody tr th:only-of-type {\n        vertical-align: middle;\n    }\n\n    .dataframe tbody tr th {\n        vertical-align: top;\n    }\n\n    .dataframe thead th {\n        text-align: right;\n    }\n</style>\n<table border=\"1\" class=\"dataframe\">\n  <thead>\n    <tr style=\"text-align: right;\">\n      <th></th>\n      <th>id</th>\n      <th>text</th>\n      <th>label</th>\n      <th>source_data</th>\n    </tr>\n  </thead>\n  <tbody>\n    <tr>\n      <th>0</th>\n      <td>870430762255953920</td>\n      <td>Hey, look - I found my social anxiety again. W...</td>\n      <td>1</td>\n      <td>set1</td>\n    </tr>\n    <tr>\n      <th>1</th>\n      <td>870430770141253632</td>\n      <td>RT @shannonpurser: Depression sucks. I'm in th...</td>\n      <td>1</td>\n      <td>set1</td>\n    </tr>\n    <tr>\n      <th>2</th>\n      <td>870430771592413187</td>\n      <td>RT @HRoyalThighness: Lol my social anxiety goe...</td>\n      <td>1</td>\n      <td>set1</td>\n    </tr>\n    <tr>\n      <th>3</th>\n      <td>870430772800479233</td>\n      <td>How to Deal with Stress, Anxiety and Bipolar D...</td>\n      <td>1</td>\n      <td>set1</td>\n    </tr>\n    <tr>\n      <th>4</th>\n      <td>870430776432644096</td>\n      <td>RT @COCONUTOILBAE: when you want to be friends...</td>\n      <td>0</td>\n      <td>set1</td>\n    </tr>\n  </tbody>\n</table>\n</div>"
     },
     "execution_count": 15,
     "metadata": {},
     "output_type": "execute_result"
    }
   ],
   "source": [
    "# create a combined dataframe that will include all of the data used for training/evaluation, then fill it in with the data, ids, and labels from the set 1 dataframe\n",
    "combined_df = set1_df[[\"id\", \"text\", \"label\"]]\n",
    "combined_df=combined_df.copy()\n",
    "combined_df[\"source_data\"] = \"set1\"\n",
    "combined_df.head()"
   ]
  },
  {
   "cell_type": "code",
   "execution_count": 16,
   "id": "fa4ee52f-6656-4c21-b7a8-efcbdeb0b36d",
   "metadata": {
    "ExecuteTime": {
     "end_time": "2024-01-19T08:09:47.548259900Z",
     "start_time": "2024-01-19T08:09:47.533790400Z"
    }
   },
   "outputs": [
    {
     "data": {
      "text/plain": "        id                                               text  label  \\\n1485  1485  Does anyone else feel a little jolt of happine...      0   \n1486  1486  Last time I took a personality test was a year...      0   \n1487  1487  Tried making a smoothie tonight coz I didn't e...      0   \n1488  1488  I hate literal translation sometimes I was try...      0   \n1489  1489  What was your favorite thing about last Thursd...      0   \n\n     source_data  \n1485        set2  \n1486        set2  \n1487        set2  \n1488        set2  \n1489        set2  ",
      "text/html": "<div>\n<style scoped>\n    .dataframe tbody tr th:only-of-type {\n        vertical-align: middle;\n    }\n\n    .dataframe tbody tr th {\n        vertical-align: top;\n    }\n\n    .dataframe thead th {\n        text-align: right;\n    }\n</style>\n<table border=\"1\" class=\"dataframe\">\n  <thead>\n    <tr style=\"text-align: right;\">\n      <th></th>\n      <th>id</th>\n      <th>text</th>\n      <th>label</th>\n      <th>source_data</th>\n    </tr>\n  </thead>\n  <tbody>\n    <tr>\n      <th>1485</th>\n      <td>1485</td>\n      <td>Does anyone else feel a little jolt of happine...</td>\n      <td>0</td>\n      <td>set2</td>\n    </tr>\n    <tr>\n      <th>1486</th>\n      <td>1486</td>\n      <td>Last time I took a personality test was a year...</td>\n      <td>0</td>\n      <td>set2</td>\n    </tr>\n    <tr>\n      <th>1487</th>\n      <td>1487</td>\n      <td>Tried making a smoothie tonight coz I didn't e...</td>\n      <td>0</td>\n      <td>set2</td>\n    </tr>\n    <tr>\n      <th>1488</th>\n      <td>1488</td>\n      <td>I hate literal translation sometimes I was try...</td>\n      <td>0</td>\n      <td>set2</td>\n    </tr>\n    <tr>\n      <th>1489</th>\n      <td>1489</td>\n      <td>What was your favorite thing about last Thursd...</td>\n      <td>0</td>\n      <td>set2</td>\n    </tr>\n  </tbody>\n</table>\n</div>"
     },
     "execution_count": 16,
     "metadata": {},
     "output_type": "execute_result"
    }
   ],
   "source": [
    "# add the contents of the set 2 dataframe to the combined dataframe\n",
    "set2_extract = set2_df[[\"id\", \"text\", \"label\"]]\n",
    "set2_extract=set2_extract.copy()\n",
    "set2_extract[\"source_data\"] = \"set2\"\n",
    "combined_df = pd.concat([combined_df,set2_extract])\n",
    "combined_df.tail()"
   ]
  },
  {
   "cell_type": "code",
   "execution_count": 17,
   "id": "6bc258e2-9318-438a-a8e1-48f252911ddd",
   "metadata": {
    "ExecuteTime": {
     "end_time": "2024-01-19T08:10:10.818358900Z",
     "start_time": "2024-01-19T08:10:10.708491800Z"
    }
   },
   "outputs": [],
   "source": [
    "# export the final combined dataframe to a csv file\n",
    "combined_df.to_csv(\"./depressive_speech/depressive_speech.csv\", index=False)"
   ]
  },
  {
   "cell_type": "code",
   "execution_count": null,
   "id": "ea2f7f48-bd13-49ae-b513-56e988ceabae",
   "metadata": {},
   "outputs": [],
   "source": []
  }
 ],
 "metadata": {
  "kernelspec": {
   "name": "python3",
   "language": "python",
   "display_name": "Python 3 (ipykernel)"
  },
  "language_info": {
   "codemirror_mode": {
    "name": "ipython",
    "version": 3
   },
   "file_extension": ".py",
   "mimetype": "text/x-python",
   "name": "python",
   "nbconvert_exporter": "python",
   "pygments_lexer": "ipython3",
   "version": "3.9.13"
  }
 },
 "nbformat": 4,
 "nbformat_minor": 5
}
